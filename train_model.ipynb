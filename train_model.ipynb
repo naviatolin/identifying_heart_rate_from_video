{
 "cells": [
  {
   "cell_type": "code",
   "execution_count": 33,
   "metadata": {},
   "outputs": [],
   "source": [
    "from scipy.fftpack import fft, fftfreq\n",
    "import os\n",
    "import matplotlib.pyplot as plt\n",
    "import numpy as np\n",
    "import librosa.display\n",
    "import librosa\n",
    "import soundfile as sf                                                      \n",
    "import sklearn\n",
    "import pickle\n",
    "from sklearn.svm import LinearSVC\n",
    "import torch\n",
    "import torch.nn as nn\n",
    "from torch import Tensor\n",
    "from torch.utils.data import DataLoader, TensorDataset\n",
    "import torch.optim as optim\n",
    "import pickle\n",
    "from sklearn.model_selection import train_test_split\n",
    "from sklearn import preprocessing\n",
    "from sklearn import utils\n",
    "from sklearn.neighbors import KNeighborsClassifier\n",
    "from sklearn import metrics\n"
   ]
  },
  {
   "cell_type": "code",
   "execution_count": 34,
   "metadata": {},
   "outputs": [
    {
     "data": {
      "text/plain": [
       "((75,),\n",
       " array([ 88.,  88.,  88.,  88.,  88., 102., 102., 102., 102., 102., 117.,\n",
       "        102., 102., 102., 102., 102., 102., 102.,  73.,  88., 117., 102.,\n",
       "        102., 102., 102., 102., 102., 102.,  88.,  59.,  88., 117.,  88.,\n",
       "         73.,  73., 102., 102.,  73.,  73.,  59.,  73., 102., 117., 102.,\n",
       "         88.,  59.,  73.,  73.,  88.,  88.,  59.,  73.,  73.,  59.,  73.,\n",
       "         73.,  73.,  88.,  88., 102., 117., 117., 117., 117., 117., 117.,\n",
       "        117., 117., 117., 117., 117., 117., 132., 132., 117.]))"
      ]
     },
     "execution_count": 34,
     "metadata": {},
     "output_type": "execute_result"
    }
   ],
   "source": [
    "bpm = []\n",
    "# grabs bpm and S data files given the directory\n",
    "# containing the pkl files respectively\n",
    "dir = \"pkl_data_files/\"\n",
    "\n",
    "#This one grabs bpm\n",
    "for x in os.listdir(dir):\n",
    "    if x.endswith(\"_bpm.pkl\"):\n",
    "        with open(str(dir + x) , 'rb') as fp:\n",
    "            file_bpm = pickle.load(fp)\n",
    "            file_bpm = np.round(file_bpm)\n",
    "            # print(len(bpm),bpm)\n",
    "            bpm.extend(file_bpm)\n",
    "bpm = np.array(bpm)\n",
    "bpm.shape, bpm"
   ]
  },
  {
   "cell_type": "code",
   "execution_count": 35,
   "metadata": {},
   "outputs": [],
   "source": [
    "# bpm_rand = np.random.randint(-10, high=10, size=(len(bpm)))\n",
    "# bpm += bpm_rand\n",
    "# bpm"
   ]
  },
  {
   "cell_type": "code",
   "execution_count": 36,
   "metadata": {},
   "outputs": [
    {
     "name": "stdout",
     "output_type": "stream",
     "text": [
      "1915 [ 4.38995305e-06  4.24483610e-06  4.70390250e-06 ... -2.18372966e-06\n",
      " -2.83716907e-06 -2.37856497e-06]\n",
      "1547 [-2.02479840e-05 -1.95322119e-05 -1.67501185e-05 ... -3.04877601e-05\n",
      " -2.85369876e-05 -2.77349427e-05]\n",
      "1989 [-1.56515338e-06 -2.03707953e-06 -1.38745120e-06 ... -1.63695606e-06\n",
      " -1.68137953e-06 -1.96251255e-06]\n",
      "2024 [3.10732474e-06 3.77809789e-07 3.13322686e-06 ... 2.39981424e-06\n",
      " 2.29844174e-06 3.34401887e-06]\n",
      "1930 [5.66288936e-05 5.22966390e-05 5.71886879e-05 ... 2.99108768e-05\n",
      " 2.71840011e-05 2.70056522e-05]\n"
     ]
    },
    {
     "data": {
      "text/plain": [
       "75"
      ]
     },
     "execution_count": 36,
     "metadata": {},
     "output_type": "execute_result"
    }
   ],
   "source": [
    "S = []\n",
    "S_60 = []\n",
    "\n",
    "# This one grabs S\n",
    "for x in os.listdir(dir):\n",
    "    if x.endswith(\"S_average_values.pkl\"):\n",
    "        with open(str(dir + x) , 'rb') as fp:\n",
    "            file_S = pickle.load(fp)\n",
    "            print(len(file_S),file_S) \n",
    "\n",
    "            arr = []\n",
    "            for count, s in enumerate(file_S):\n",
    "                if count%120 == 0 and count!=0:\n",
    "                    S_60.append(arr)\n",
    "                    arr = []\n",
    "                arr.append(s)\n",
    "len(S_60)"
   ]
  },
  {
   "cell_type": "code",
   "execution_count": 37,
   "metadata": {},
   "outputs": [
    {
     "data": {
      "text/plain": [
       "((75, 120), (75,))"
      ]
     },
     "execution_count": 37,
     "metadata": {},
     "output_type": "execute_result"
    }
   ],
   "source": [
    "S_60 = np.array(S_60)\n",
    "bpm = np.array(bpm)\n",
    "S_60.shape, bpm.shape"
   ]
  },
  {
   "cell_type": "code",
   "execution_count": 38,
   "metadata": {},
   "outputs": [
    {
     "data": {
      "text/plain": [
       "((75, 120), (75,))"
      ]
     },
     "execution_count": 38,
     "metadata": {},
     "output_type": "execute_result"
    }
   ],
   "source": [
    "X = S_60\n",
    "Y = bpm\n",
    "X.shape, Y.shape"
   ]
  },
  {
   "cell_type": "code",
   "execution_count": 39,
   "metadata": {},
   "outputs": [],
   "source": [
    "X_train, X_test, y_train, y_test = train_test_split(X,Y,test_size=0.3,random_state=42)"
   ]
  },
  {
   "cell_type": "code",
   "execution_count": 40,
   "metadata": {},
   "outputs": [],
   "source": [
    "clf = LinearSVC()\n",
    "clf.fit(X_train,y_train)\n",
    "y_hat = clf.predict(X_test)"
   ]
  },
  {
   "cell_type": "code",
   "execution_count": 41,
   "metadata": {},
   "outputs": [
    {
     "name": "stdout",
     "output_type": "stream",
     "text": [
      "88.0 102.0\n",
      "117.0 102.0\n",
      "117.0 102.0\n",
      "88.0 102.0\n",
      "102.0 102.0\n",
      "117.0 102.0\n",
      "88.0 102.0\n",
      "102.0 102.0\n",
      "117.0 102.0\n",
      "117.0 102.0\n",
      "73.0 102.0\n",
      "117.0 102.0\n",
      "88.0 102.0\n",
      "73.0 102.0\n",
      "102.0 102.0\n",
      "102.0 102.0\n",
      "102.0 102.0\n",
      "73.0 102.0\n",
      "73.0 102.0\n",
      "117.0 102.0\n",
      "59.0 102.0\n",
      "73.0 102.0\n",
      "102.0 102.0\n"
     ]
    }
   ],
   "source": [
    "# Will comment out / delete later, but it's a good sanity check\n",
    "for i in range(len(y_test)):\n",
    "    print(y_test[i], y_hat[i])"
   ]
  },
  {
   "cell_type": "code",
   "execution_count": 42,
   "metadata": {},
   "outputs": [],
   "source": [
    "# Will create a function that better gets accuracy\n",
    "# def get_acc(y_hat, y_test):\n",
    "    "
   ]
  },
  {
   "cell_type": "code",
   "execution_count": 43,
   "metadata": {},
   "outputs": [
    {
     "name": "stdout",
     "output_type": "stream",
     "text": [
      "Testing Accuracy:  0.2608695652173913\n"
     ]
    }
   ],
   "source": [
    "print('Testing Accuracy: ', np.sum((y_hat == y_test))/len(y_test))\n",
    "# print('Testing Accuracy: ', get_acc(y_hat, y_test))"
   ]
  },
  {
   "cell_type": "code",
   "execution_count": 44,
   "metadata": {},
   "outputs": [
    {
     "name": "stdout",
     "output_type": "stream",
     "text": [
      "K = 1; Accuracy: 0.43478260869565216\n",
      "K = 3; Accuracy: 0.2608695652173913\n",
      "K = 5; Accuracy: 0.2608695652173913\n",
      "K = 7; Accuracy: 0.43478260869565216\n",
      "The best accuracy was: 43.48 %\n"
     ]
    }
   ],
   "source": [
    "K = [1,3,5,7]\n",
    "\n",
    "# loop through k's as well\n",
    "mean_acc = np.zeros((len(K)-1))\n",
    "for i, k in enumerate(K):\n",
    "    # default euclidean distance\n",
    "    knn = KNeighborsClassifier(n_neighbors=k)\n",
    "    knn.fit(X_train, y_train)\n",
    "    yhat = knn.predict(X_test)\n",
    "    acc = metrics.accuracy_score(y_test, yhat)    \n",
    "    print(\"K = \"+str(k)+\"; Accuracy: \"+str(acc))\n",
    "    mean_acc[i-1] = acc\n",
    "\n",
    "print( \"The best accuracy was:\", np.round(mean_acc.max()*100,2),'%') "
   ]
  }
 ],
 "metadata": {
  "kernelspec": {
   "display_name": "Python 3",
   "language": "python",
   "name": "python3"
  },
  "language_info": {
   "codemirror_mode": {
    "name": "ipython",
    "version": 3
   },
   "file_extension": ".py",
   "mimetype": "text/x-python",
   "name": "python",
   "nbconvert_exporter": "python",
   "pygments_lexer": "ipython3",
   "version": "3.10.6"
  },
  "orig_nbformat": 4
 },
 "nbformat": 4,
 "nbformat_minor": 2
}
